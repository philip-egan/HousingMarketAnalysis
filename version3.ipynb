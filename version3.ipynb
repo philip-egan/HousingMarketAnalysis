{
 "cells": [
  {
   "cell_type": "markdown",
   "metadata": {},
   "source": [
    "# imports\n"
   ]
  },
  {
   "cell_type": "code",
   "execution_count": 1,
   "metadata": {},
   "outputs": [],
   "source": [
    "#imports used \n",
    "import pandas as pd\n",
    "import matplotlib.pyplot as plt\n",
    "import numpy as np\n",
    "#knn imports\n",
    "from sklearn.neighbors import NearestNeighbors\n",
    "from fancyimpute import KNN\n",
    "from sklearn import preprocessing\n",
    "from sklearn import utils\n",
    "from sklearn.model_selection import train_test_split\n",
    "from sklearn import metrics\n",
    "from sklearn.preprocessing import OrdinalEncoder"
   ]
  },
  {
   "cell_type": "markdown",
   "metadata": {},
   "source": [
    "# Data cleaning"
   ]
  },
  {
   "cell_type": "code",
   "execution_count": 2,
   "metadata": {},
   "outputs": [],
   "source": [
    "# importing the initial data\n",
    "data = pd.read_csv(\"data/data.csv\")\n",
    "data = data.fillna(0)"
   ]
  },
  {
   "cell_type": "code",
   "execution_count": 3,
   "metadata": {},
   "outputs": [],
   "source": [
    "#setting the data values as int, incase the values are incorrectly improted as the wrong value\n",
    "data.bedrooms = data.bedrooms.astype(int)\n",
    "data.bathrooms = data.bathrooms.astype(int)\n",
    "data.floors = data.floors.astype(int)"
   ]
  },
  {
   "cell_type": "code",
   "execution_count": 4,
   "metadata": {},
   "outputs": [],
   "source": [
    "#removing unnessicary values\n",
    "data = data.drop([\"country\",\"street\",\"date\"],axis=1)"
   ]
  },
  {
   "cell_type": "code",
   "execution_count": 5,
   "metadata": {},
   "outputs": [],
   "source": [
    "#changing values into booleans to increase the accuracy of the algorithms\n",
    "#step 1 - column to list\n",
    "basement = data[\"sqft_basement\"].values.tolist()\n",
    "renovated = data[\"yr_renovated\"].values.tolist()\n",
    "Years = data[\"yr_built\"].values.tolist()\n"
   ]
  },
  {
   "cell_type": "code",
   "execution_count": 6,
   "metadata": {},
   "outputs": [],
   "source": [
    "#functions to change the value into binary yes(1) or no (2)\n",
    "def Basement(basement):\n",
    "    counter=0;\n",
    "    for value in basement:\n",
    "        if(value > 0):\n",
    "            basement[counter] = 1\n",
    "        counter= counter +1\n",
    "    return basement\n",
    "\n",
    "#renovated function to turn it into a boolean \n",
    "#1 = there is was renovated \n",
    "#0 = no renovated\n",
    "def Renovated(renovated):\n",
    "    counter=0\n",
    "    for value in renovated:\n",
    "        if(value > 0):\n",
    "            renovated[counter] = 1\n",
    "        counter= counter +1\n",
    "    return renovated    \n",
    "#smooth out buid years to the decade rather than year. this is to speed up the functions and also reduce complexity and giving more accurate results\n",
    "#eg a year of 1996 is now 2000 and a year of 1994 is now 1990\n",
    "def YearSmooth(Years):\n",
    "    counter=0;\n",
    "    for year in Years:\n",
    "        if ((year % 10) > 4):\n",
    "            x =10 - (year % 10)\n",
    "            year = year +x \n",
    "        elif ((year % 10) < 5):\n",
    "            year = year -(year % 10) \n",
    "        Years[counter] = year        \n",
    "        counter= counter +1\n",
    "    return Years"
   ]
  },
  {
   "cell_type": "code",
   "execution_count": 7,
   "metadata": {},
   "outputs": [],
   "source": [
    "#calling these functions\n",
    "data[\"basement\"]=Basement(basement)\n",
    "data[\"renovated\"]=Renovated(renovated)\n",
    "data[\"DecadeBuilt\"] = YearSmooth(Years)"
   ]
  },
  {
   "cell_type": "code",
   "execution_count": 8,
   "metadata": {},
   "outputs": [],
   "source": [
    "#removing unwanted values\n",
    "data=data.drop(\"yr_renovated\",axis=1)\n",
    "data=data.drop(\"yr_built\",axis=1)\n",
    "data=data.drop(\"sqft_basement\",axis=1)\n",
    "#removing values that are not functional\n",
    "data = data[data['price']>0]\n",
    "data = data[data['bedrooms']>0]\n",
    "data = data[data['bathrooms']>0]"
   ]
  },
  {
   "cell_type": "code",
   "execution_count": 9,
   "metadata": {},
   "outputs": [],
   "source": [
    "#saving data as \"CleanedData.csv\"\n",
    "data.to_csv(\"data/CleanedData.csv\",index=False)"
   ]
  },
  {
   "cell_type": "markdown",
   "metadata": {},
   "source": [
    "# grouping houses by similar features"
   ]
  },
  {
   "cell_type": "code",
   "execution_count": 10,
   "metadata": {},
   "outputs": [],
   "source": [
    "#importing data that was cleaned to reduce errors\n",
    "data = pd.read_csv(\"data/CleanedData.csv\")"
   ]
  },
  {
   "cell_type": "code",
   "execution_count": 11,
   "metadata": {},
   "outputs": [],
   "source": [
    "#grouping each house with compairable houses\n",
    "def similarTo(PointOfIntrest,neightbourNumbers):\n",
    "    dataX = data.drop([\"city\",\"sqft_above\",\"statezip\",\"price\"],axis=1)\n",
    "    neigh = NearestNeighbors(n_neighbors=neightbourNumbers)\n",
    "    dataX = dataX.to_numpy()\n",
    "    neigh.fit(dataX)\n",
    "    neighbors_f_id = neigh.kneighbors_graph([dataX[PointOfIntrest]]).indices\n",
    "    similar = data.iloc[neighbors_f_id]\n",
    "    return similar\n",
    " "
   ]
  },
  {
   "cell_type": "code",
   "execution_count": 12,
   "metadata": {},
   "outputs": [],
   "source": [
    "SimilarHouseGrouping=[]\n",
    "for x in range(0,len(data)):\n",
    "    SimilarHouseGrouping.append(similarTo(x,2))   "
   ]
  },
  {
   "cell_type": "markdown",
   "metadata": {},
   "source": [
    "# Comapare Two houses\n"
   ]
  },
  {
   "cell_type": "code",
   "execution_count": 13,
   "metadata": {},
   "outputs": [],
   "source": [
    "def houseCompare(SimilarHouseGrouping):\n",
    "    SimilarHouseGrouping= SimilarHouseGrouping.drop([\"city\",\"statezip\"],axis=1)\n",
    "    return SimilarHouseGrouping.diff(axis=0)"
   ]
  },
  {
   "cell_type": "code",
   "execution_count": 14,
   "metadata": {},
   "outputs": [
    {
     "data": {
      "text/html": [
       "<div>\n",
       "<style scoped>\n",
       "    .dataframe tbody tr th:only-of-type {\n",
       "        vertical-align: middle;\n",
       "    }\n",
       "\n",
       "    .dataframe tbody tr th {\n",
       "        vertical-align: top;\n",
       "    }\n",
       "\n",
       "    .dataframe thead th {\n",
       "        text-align: right;\n",
       "    }\n",
       "</style>\n",
       "<table border=\"1\" class=\"dataframe\">\n",
       "  <thead>\n",
       "    <tr style=\"text-align: right;\">\n",
       "      <th></th>\n",
       "      <th>price</th>\n",
       "      <th>bedrooms</th>\n",
       "      <th>bathrooms</th>\n",
       "      <th>sqft_living</th>\n",
       "      <th>sqft_lot</th>\n",
       "      <th>floors</th>\n",
       "      <th>waterfront</th>\n",
       "      <th>view</th>\n",
       "      <th>condition</th>\n",
       "      <th>sqft_above</th>\n",
       "      <th>basement</th>\n",
       "      <th>renovated</th>\n",
       "      <th>DecadeBuilt</th>\n",
       "    </tr>\n",
       "  </thead>\n",
       "  <tbody>\n",
       "    <tr>\n",
       "      <th>1</th>\n",
       "      <td>NaN</td>\n",
       "      <td>NaN</td>\n",
       "      <td>NaN</td>\n",
       "      <td>NaN</td>\n",
       "      <td>NaN</td>\n",
       "      <td>NaN</td>\n",
       "      <td>NaN</td>\n",
       "      <td>NaN</td>\n",
       "      <td>NaN</td>\n",
       "      <td>NaN</td>\n",
       "      <td>NaN</td>\n",
       "      <td>NaN</td>\n",
       "      <td>NaN</td>\n",
       "    </tr>\n",
       "    <tr>\n",
       "      <th>3928</th>\n",
       "      <td>-1234000.0</td>\n",
       "      <td>0.0</td>\n",
       "      <td>0.0</td>\n",
       "      <td>-70.0</td>\n",
       "      <td>-129.0</td>\n",
       "      <td>0.0</td>\n",
       "      <td>0.0</td>\n",
       "      <td>-4.0</td>\n",
       "      <td>-2.0</td>\n",
       "      <td>210.0</td>\n",
       "      <td>-1.0</td>\n",
       "      <td>0.0</td>\n",
       "      <td>80.0</td>\n",
       "    </tr>\n",
       "  </tbody>\n",
       "</table>\n",
       "</div>"
      ],
      "text/plain": [
       "          price  bedrooms  bathrooms  sqft_living  sqft_lot  floors  \\\n",
       "1           NaN       NaN        NaN          NaN       NaN     NaN   \n",
       "3928 -1234000.0       0.0        0.0        -70.0    -129.0     0.0   \n",
       "\n",
       "      waterfront  view  condition  sqft_above  basement  renovated  \\\n",
       "1            NaN   NaN        NaN         NaN       NaN        NaN   \n",
       "3928         0.0  -4.0       -2.0       210.0      -1.0        0.0   \n",
       "\n",
       "      DecadeBuilt  \n",
       "1             NaN  \n",
       "3928         80.0  "
      ]
     },
     "execution_count": 14,
     "metadata": {},
     "output_type": "execute_result"
    }
   ],
   "source": [
    "\n",
    "houseCompare(SimilarHouseGrouping[1])"
   ]
  },
  {
   "cell_type": "markdown",
   "metadata": {},
   "source": [
    "# compairing locatons"
   ]
  },
  {
   "cell_type": "code",
   "execution_count": 36,
   "metadata": {},
   "outputs": [],
   "source": [
    "cities = data[\"city\"].unique().tolist()\n",
    "locaitonComp = pd.DataFrame({\"Cities\":cities,\"pricing difference\":0,\"NumberOfEntries\":0})"
   ]
  },
  {
   "cell_type": "code",
   "execution_count": 37,
   "metadata": {},
   "outputs": [],
   "source": [
    "def locationsComp():\n",
    "    for comparisons in range(0,len(SimilarHouseGrouping),1):\n",
    "        x =SimilarHouseGrouping[comparisons][[\"price\",\"city\"]]\n",
    "        city1 = x.iloc[0][\"city\"]\n",
    "        city2 = x.iloc[1][\"city\"]\n",
    "        city1diff = x.iloc[0][\"price\"]\n",
    "        city2diff = x.iloc[1][\"price\"]\n",
    "        num1 = locaitonComp.loc[locaitonComp[\"Cities\"] == city1][\"pricing difference\"].values\n",
    "        num2 = locaitonComp.loc[locaitonComp[\"Cities\"] == city2][\"pricing difference\"].values\n",
    "        NoOfEntries1 = locaitonComp.loc[locaitonComp[\"Cities\"] == city1][\"NumberOfEntries\"].values\n",
    "        NoOfEntries2 = locaitonComp.loc[locaitonComp[\"Cities\"] == city2][\"NumberOfEntries\"].values\n",
    "        locaitonComp[\"pricing difference\"].loc[locaitonComp[\"Cities\"] == city1]=num1 + city1diff \n",
    "        locaitonComp[\"pricing difference\"].loc[locaitonComp[\"Cities\"] == city2]=num2 + city2diff\n",
    "        locaitonComp[\"NumberOfEntries\"].loc[locaitonComp[\"Cities\"] == city1]=NoOfEntries1 + 1\n",
    "        locaitonComp[\"NumberOfEntries\"].loc[locaitonComp[\"Cities\"] == city2]=NoOfEntries2 + 1"
   ]
  },
  {
   "cell_type": "code",
   "execution_count": 40,
   "metadata": {},
   "outputs": [
    {
     "name": "stderr",
     "output_type": "stream",
     "text": [
      "C:\\Users\\Phili\\anaconda3\\lib\\site-packages\\pandas\\core\\indexing.py:671: SettingWithCopyWarning: \n",
      "A value is trying to be set on a copy of a slice from a DataFrame\n",
      "\n",
      "See the caveats in the documentation: https://pandas.pydata.org/pandas-docs/stable/user_guide/indexing.html#returning-a-view-versus-a-copy\n",
      "  self._setitem_with_indexer(indexer, value)\n"
     ]
    },
    {
     "data": {
      "text/html": [
       "<div>\n",
       "<style scoped>\n",
       "    .dataframe tbody tr th:only-of-type {\n",
       "        vertical-align: middle;\n",
       "    }\n",
       "\n",
       "    .dataframe tbody tr th {\n",
       "        vertical-align: top;\n",
       "    }\n",
       "\n",
       "    .dataframe thead th {\n",
       "        text-align: right;\n",
       "    }\n",
       "</style>\n",
       "<table border=\"1\" class=\"dataframe\">\n",
       "  <thead>\n",
       "    <tr style=\"text-align: right;\">\n",
       "      <th></th>\n",
       "      <th>Cities</th>\n",
       "      <th>pricing difference</th>\n",
       "      <th>NumberOfEntries</th>\n",
       "    </tr>\n",
       "  </thead>\n",
       "  <tbody>\n",
       "    <tr>\n",
       "      <th>0</th>\n",
       "      <td>Shoreline</td>\n",
       "      <td>0.212175</td>\n",
       "      <td>699</td>\n",
       "    </tr>\n",
       "    <tr>\n",
       "      <th>1</th>\n",
       "      <td>Seattle</td>\n",
       "      <td>0.284353</td>\n",
       "      <td>6120</td>\n",
       "    </tr>\n",
       "    <tr>\n",
       "      <th>2</th>\n",
       "      <td>Kent</td>\n",
       "      <td>0.252039</td>\n",
       "      <td>1092</td>\n",
       "    </tr>\n",
       "    <tr>\n",
       "      <th>3</th>\n",
       "      <td>Bellevue</td>\n",
       "      <td>0.403541</td>\n",
       "      <td>1503</td>\n",
       "    </tr>\n",
       "    <tr>\n",
       "      <th>4</th>\n",
       "      <td>Redmond</td>\n",
       "      <td>0.314991</td>\n",
       "      <td>1338</td>\n",
       "    </tr>\n",
       "  </tbody>\n",
       "</table>\n",
       "</div>"
      ],
      "text/plain": [
       "      Cities  pricing difference  NumberOfEntries\n",
       "0  Shoreline            0.212175              699\n",
       "1    Seattle            0.284353             6120\n",
       "2       Kent            0.252039             1092\n",
       "3   Bellevue            0.403541             1503\n",
       "4    Redmond            0.314991             1338"
      ]
     },
     "execution_count": 40,
     "metadata": {},
     "output_type": "execute_result"
    }
   ],
   "source": [
    "locationsComp()\n",
    "dfCopy=locaitonComp.copy()\n",
    "toNorm=\"pricing difference\"\n",
    "dfCopy[toNorm] = dfCopy[toNorm]/dfCopy[\"NumberOfEntries\"]\n",
    "locaitonComp[toNorm] = dfCopy[toNorm]/dfCopy[toNorm].abs().max()\n",
    "locaitonComp.head()"
   ]
  },
  {
   "cell_type": "code",
   "execution_count": 45,
   "metadata": {},
   "outputs": [
    {
     "data": {
      "text/html": [
       "<div>\n",
       "<style scoped>\n",
       "    .dataframe tbody tr th:only-of-type {\n",
       "        vertical-align: middle;\n",
       "    }\n",
       "\n",
       "    .dataframe tbody tr th {\n",
       "        vertical-align: top;\n",
       "    }\n",
       "\n",
       "    .dataframe thead th {\n",
       "        text-align: right;\n",
       "    }\n",
       "</style>\n",
       "<table border=\"1\" class=\"dataframe\">\n",
       "  <thead>\n",
       "    <tr style=\"text-align: right;\">\n",
       "      <th></th>\n",
       "      <th>Cities</th>\n",
       "      <th>pricing difference</th>\n",
       "      <th>NumberOfEntries</th>\n",
       "    </tr>\n",
       "  </thead>\n",
       "  <tbody>\n",
       "    <tr>\n",
       "      <th>0</th>\n",
       "      <td>Shoreline</td>\n",
       "      <td>0.212175</td>\n",
       "      <td>699</td>\n",
       "    </tr>\n",
       "    <tr>\n",
       "      <th>1</th>\n",
       "      <td>Seattle</td>\n",
       "      <td>0.284353</td>\n",
       "      <td>6120</td>\n",
       "    </tr>\n",
       "    <tr>\n",
       "      <th>2</th>\n",
       "      <td>Kent</td>\n",
       "      <td>0.252039</td>\n",
       "      <td>1092</td>\n",
       "    </tr>\n",
       "    <tr>\n",
       "      <th>3</th>\n",
       "      <td>Bellevue</td>\n",
       "      <td>0.403541</td>\n",
       "      <td>1503</td>\n",
       "    </tr>\n",
       "    <tr>\n",
       "      <th>4</th>\n",
       "      <td>Redmond</td>\n",
       "      <td>0.314991</td>\n",
       "      <td>1338</td>\n",
       "    </tr>\n",
       "    <tr>\n",
       "      <th>5</th>\n",
       "      <td>Maple Valley</td>\n",
       "      <td>0.166101</td>\n",
       "      <td>543</td>\n",
       "    </tr>\n",
       "    <tr>\n",
       "      <th>6</th>\n",
       "      <td>North Bend</td>\n",
       "      <td>0.197130</td>\n",
       "      <td>309</td>\n",
       "    </tr>\n",
       "    <tr>\n",
       "      <th>7</th>\n",
       "      <td>Lake Forest Park</td>\n",
       "      <td>0.228765</td>\n",
       "      <td>216</td>\n",
       "    </tr>\n",
       "    <tr>\n",
       "      <th>8</th>\n",
       "      <td>Sammamish</td>\n",
       "      <td>0.337617</td>\n",
       "      <td>1011</td>\n",
       "    </tr>\n",
       "    <tr>\n",
       "      <th>9</th>\n",
       "      <td>Auburn</td>\n",
       "      <td>0.143659</td>\n",
       "      <td>978</td>\n",
       "    </tr>\n",
       "    <tr>\n",
       "      <th>10</th>\n",
       "      <td>Des Moines</td>\n",
       "      <td>0.151152</td>\n",
       "      <td>351</td>\n",
       "    </tr>\n",
       "    <tr>\n",
       "      <th>11</th>\n",
       "      <td>Bothell</td>\n",
       "      <td>0.233352</td>\n",
       "      <td>189</td>\n",
       "    </tr>\n",
       "    <tr>\n",
       "      <th>12</th>\n",
       "      <td>Federal Way</td>\n",
       "      <td>0.141568</td>\n",
       "      <td>828</td>\n",
       "    </tr>\n",
       "    <tr>\n",
       "      <th>13</th>\n",
       "      <td>Kirkland</td>\n",
       "      <td>0.319127</td>\n",
       "      <td>1071</td>\n",
       "    </tr>\n",
       "    <tr>\n",
       "      <th>14</th>\n",
       "      <td>Issaquah</td>\n",
       "      <td>0.289181</td>\n",
       "      <td>1014</td>\n",
       "    </tr>\n",
       "    <tr>\n",
       "      <th>15</th>\n",
       "      <td>Woodinville</td>\n",
       "      <td>0.297259</td>\n",
       "      <td>627</td>\n",
       "    </tr>\n",
       "    <tr>\n",
       "      <th>16</th>\n",
       "      <td>Normandy Park</td>\n",
       "      <td>0.269570</td>\n",
       "      <td>102</td>\n",
       "    </tr>\n",
       "    <tr>\n",
       "      <th>17</th>\n",
       "      <td>Fall City</td>\n",
       "      <td>0.343031</td>\n",
       "      <td>51</td>\n",
       "    </tr>\n",
       "    <tr>\n",
       "      <th>18</th>\n",
       "      <td>Renton</td>\n",
       "      <td>0.182402</td>\n",
       "      <td>1686</td>\n",
       "    </tr>\n",
       "    <tr>\n",
       "      <th>19</th>\n",
       "      <td>Carnation</td>\n",
       "      <td>0.252050</td>\n",
       "      <td>126</td>\n",
       "    </tr>\n",
       "    <tr>\n",
       "      <th>20</th>\n",
       "      <td>Snoqualmie</td>\n",
       "      <td>0.270395</td>\n",
       "      <td>381</td>\n",
       "    </tr>\n",
       "    <tr>\n",
       "      <th>21</th>\n",
       "      <td>Duvall</td>\n",
       "      <td>0.194463</td>\n",
       "      <td>240</td>\n",
       "    </tr>\n",
       "    <tr>\n",
       "      <th>22</th>\n",
       "      <td>Burien</td>\n",
       "      <td>0.173763</td>\n",
       "      <td>399</td>\n",
       "    </tr>\n",
       "    <tr>\n",
       "      <th>23</th>\n",
       "      <td>Covington</td>\n",
       "      <td>0.133663</td>\n",
       "      <td>240</td>\n",
       "    </tr>\n",
       "    <tr>\n",
       "      <th>24</th>\n",
       "      <td>Inglewood-Finn Hill</td>\n",
       "      <td>0.206293</td>\n",
       "      <td>12</td>\n",
       "    </tr>\n",
       "    <tr>\n",
       "      <th>25</th>\n",
       "      <td>Kenmore</td>\n",
       "      <td>0.222485</td>\n",
       "      <td>366</td>\n",
       "    </tr>\n",
       "    <tr>\n",
       "      <th>26</th>\n",
       "      <td>Newcastle</td>\n",
       "      <td>0.325478</td>\n",
       "      <td>195</td>\n",
       "    </tr>\n",
       "    <tr>\n",
       "      <th>27</th>\n",
       "      <td>Mercer Island</td>\n",
       "      <td>0.540233</td>\n",
       "      <td>495</td>\n",
       "    </tr>\n",
       "    <tr>\n",
       "      <th>28</th>\n",
       "      <td>Black Diamond</td>\n",
       "      <td>0.177104</td>\n",
       "      <td>48</td>\n",
       "    </tr>\n",
       "    <tr>\n",
       "      <th>29</th>\n",
       "      <td>Ravensdale</td>\n",
       "      <td>0.252486</td>\n",
       "      <td>36</td>\n",
       "    </tr>\n",
       "    <tr>\n",
       "      <th>30</th>\n",
       "      <td>Clyde Hill</td>\n",
       "      <td>0.710879</td>\n",
       "      <td>48</td>\n",
       "    </tr>\n",
       "    <tr>\n",
       "      <th>31</th>\n",
       "      <td>Algona</td>\n",
       "      <td>0.085737</td>\n",
       "      <td>21</td>\n",
       "    </tr>\n",
       "    <tr>\n",
       "      <th>32</th>\n",
       "      <td>Skykomish</td>\n",
       "      <td>0.146880</td>\n",
       "      <td>15</td>\n",
       "    </tr>\n",
       "    <tr>\n",
       "      <th>33</th>\n",
       "      <td>Tukwila</td>\n",
       "      <td>0.138782</td>\n",
       "      <td>162</td>\n",
       "    </tr>\n",
       "    <tr>\n",
       "      <th>34</th>\n",
       "      <td>Vashon</td>\n",
       "      <td>0.228904</td>\n",
       "      <td>174</td>\n",
       "    </tr>\n",
       "    <tr>\n",
       "      <th>35</th>\n",
       "      <td>Yarrow Point</td>\n",
       "      <td>0.608687</td>\n",
       "      <td>30</td>\n",
       "    </tr>\n",
       "    <tr>\n",
       "      <th>36</th>\n",
       "      <td>SeaTac</td>\n",
       "      <td>0.125442</td>\n",
       "      <td>174</td>\n",
       "    </tr>\n",
       "    <tr>\n",
       "      <th>37</th>\n",
       "      <td>Medina</td>\n",
       "      <td>1.000000</td>\n",
       "      <td>72</td>\n",
       "    </tr>\n",
       "    <tr>\n",
       "      <th>38</th>\n",
       "      <td>Enumclaw</td>\n",
       "      <td>0.160175</td>\n",
       "      <td>162</td>\n",
       "    </tr>\n",
       "    <tr>\n",
       "      <th>39</th>\n",
       "      <td>Snoqualmie Pass</td>\n",
       "      <td>0.254832</td>\n",
       "      <td>6</td>\n",
       "    </tr>\n",
       "    <tr>\n",
       "      <th>40</th>\n",
       "      <td>Pacific</td>\n",
       "      <td>0.107100</td>\n",
       "      <td>39</td>\n",
       "    </tr>\n",
       "    <tr>\n",
       "      <th>41</th>\n",
       "      <td>Beaux Arts Village</td>\n",
       "      <td>0.361619</td>\n",
       "      <td>6</td>\n",
       "    </tr>\n",
       "    <tr>\n",
       "      <th>42</th>\n",
       "      <td>Preston</td>\n",
       "      <td>0.302753</td>\n",
       "      <td>12</td>\n",
       "    </tr>\n",
       "    <tr>\n",
       "      <th>43</th>\n",
       "      <td>Milton</td>\n",
       "      <td>0.138337</td>\n",
       "      <td>12</td>\n",
       "    </tr>\n",
       "    <tr>\n",
       "      <th>44</th>\n",
       "      <td>kent</td>\n",
       "      <td>NaN</td>\n",
       "      <td>0</td>\n",
       "    </tr>\n",
       "  </tbody>\n",
       "</table>\n",
       "</div>"
      ],
      "text/plain": [
       "                 Cities  pricing difference  NumberOfEntries\n",
       "0             Shoreline            0.212175              699\n",
       "1               Seattle            0.284353             6120\n",
       "2                  Kent            0.252039             1092\n",
       "3              Bellevue            0.403541             1503\n",
       "4               Redmond            0.314991             1338\n",
       "5          Maple Valley            0.166101              543\n",
       "6            North Bend            0.197130              309\n",
       "7      Lake Forest Park            0.228765              216\n",
       "8             Sammamish            0.337617             1011\n",
       "9                Auburn            0.143659              978\n",
       "10           Des Moines            0.151152              351\n",
       "11              Bothell            0.233352              189\n",
       "12          Federal Way            0.141568              828\n",
       "13             Kirkland            0.319127             1071\n",
       "14             Issaquah            0.289181             1014\n",
       "15          Woodinville            0.297259              627\n",
       "16        Normandy Park            0.269570              102\n",
       "17            Fall City            0.343031               51\n",
       "18               Renton            0.182402             1686\n",
       "19            Carnation            0.252050              126\n",
       "20           Snoqualmie            0.270395              381\n",
       "21               Duvall            0.194463              240\n",
       "22               Burien            0.173763              399\n",
       "23            Covington            0.133663              240\n",
       "24  Inglewood-Finn Hill            0.206293               12\n",
       "25              Kenmore            0.222485              366\n",
       "26            Newcastle            0.325478              195\n",
       "27        Mercer Island            0.540233              495\n",
       "28        Black Diamond            0.177104               48\n",
       "29           Ravensdale            0.252486               36\n",
       "30           Clyde Hill            0.710879               48\n",
       "31               Algona            0.085737               21\n",
       "32            Skykomish            0.146880               15\n",
       "33              Tukwila            0.138782              162\n",
       "34               Vashon            0.228904              174\n",
       "35         Yarrow Point            0.608687               30\n",
       "36               SeaTac            0.125442              174\n",
       "37               Medina            1.000000               72\n",
       "38             Enumclaw            0.160175              162\n",
       "39      Snoqualmie Pass            0.254832                6\n",
       "40              Pacific            0.107100               39\n",
       "41   Beaux Arts Village            0.361619                6\n",
       "42              Preston            0.302753               12\n",
       "43               Milton            0.138337               12\n",
       "44                 kent                 NaN                0"
      ]
     },
     "execution_count": 45,
     "metadata": {},
     "output_type": "execute_result"
    }
   ],
   "source": [
    "locaitonComp"
   ]
  },
  {
   "cell_type": "markdown",
   "metadata": {},
   "source": [
    "# Characteristic value"
   ]
  },
  {
   "cell_type": "code",
   "execution_count": 18,
   "metadata": {},
   "outputs": [],
   "source": [
    "#value is scaled by the value of the location\n",
    "#starting the bedrooms, bathrooms, floor, view, basements and if the property is renovated\n",
    "bedrooms = data[\"bedrooms\"].unique().tolist()\n",
    "bedroomComp = pd.DataFrame({\"bedrooms\":bedrooms,\"pricing difference\":int(0)})\n",
    "\n",
    "bathrooms = data[\"bathrooms\"].unique().tolist()\n",
    "bathroomsComp = pd.DataFrame({\"bathrooms\":bathrooms,\"pricing difference\":int(0)})\n",
    "\n",
    "floors = data[\"floors\"].unique().tolist()\n",
    "floorsComp = pd.DataFrame({\"floors\":floors,\"pricing difference\":int(0)})\n",
    "\n",
    "basement = data[\"basement\"].unique().tolist()\n",
    "basementComp = pd.DataFrame({\"basement\":basement,\"pricing difference\":int(0)})"
   ]
  },
  {
   "cell_type": "code",
   "execution_count": 19,
   "metadata": {},
   "outputs": [],
   "source": [
    "def bedValueComp():\n",
    "    for comparisons in range(0,len(difBedroomsValues),1):\n",
    "        x =difBedroomsValues[comparisons][[\"price\",\"bedrooms\"]]\n",
    "        city1 = x.iloc[0][\"bedrooms\"]\n",
    "        city2 = x.iloc[1][\"bedrooms\"]\n",
    "        city1diff = x.iloc[0][\"price\"]\n",
    "        city2diff = x.iloc[1][\"price\"]\n",
    "        num1 = bedroomComp.loc[bedroomComp[\"bedrooms\"] == city1][\"pricing difference\"].values\n",
    "        num2 = bedroomComp.loc[bedroomComp[\"bedrooms\"] == city2][\"pricing difference\"].values\n",
    "        bedroomComp[\"pricing difference\"].loc[bedroomComp[\"bedrooms\"] == city1]=num1 + city1diff \n",
    "        bedroomComp[\"pricing difference\"].loc[bedroomComp[\"bedrooms\"] == city2]=num2 + city2diff  \n",
    "\n",
    "def bathValueComp():\n",
    "    for comparisons in range(0,len(difBathroomsValues),1):\n",
    "        x =difBathroomsValues[comparisons][[\"price\",\"bathrooms\"]]\n",
    "        city1 = x.iloc[0][\"bathrooms\"]\n",
    "        city2 = x.iloc[1][\"bathrooms\"]\n",
    "        city1diff = x.iloc[0][\"price\"]\n",
    "        city2diff = x.iloc[1][\"price\"]\n",
    "        num1 = bathroomsComp.loc[bathroomsComp[\"bathrooms\"] == city1][\"pricing difference\"].values\n",
    "        num2 = bathroomsComp.loc[bathroomsComp[\"bathrooms\"] == city2][\"pricing difference\"].values\n",
    "        bathroomsComp[\"pricing difference\"].loc[bathroomsComp[\"bathrooms\"] == city1]=num1 + city1diff \n",
    "        bathroomsComp[\"pricing difference\"].loc[bathroomsComp[\"bathrooms\"] == city2]=num2 + city2diff  \n",
    "\n",
    "def floorValueComp():\n",
    "    for comparisons in range(0,len(difFloorsValues),1):\n",
    "        x =difFloorsValues[comparisons][[\"price\",\"floors\"]]\n",
    "        city1 = x.iloc[0][\"floors\"]\n",
    "        city2 = x.iloc[1][\"floors\"]\n",
    "        city1diff = x.iloc[0][\"price\"]\n",
    "        city2diff = x.iloc[1][\"price\"]\n",
    "        num1 = floorsComp.loc[floorsComp[\"floors\"] == city1][\"pricing difference\"].values\n",
    "        num2 = floorsComp.loc[floorsComp[\"floors\"] == city2][\"pricing difference\"].values\n",
    "        floorsComp[\"pricing difference\"].loc[floorsComp[\"floors\"] == city1]=num1 + city1diff \n",
    "        floorsComp[\"pricing difference\"].loc[floorsComp[\"floors\"] == city2]=num2 + city2diff  \n",
    "\n",
    "        \n",
    "def basementValueComp():\n",
    "    for comparisons in range(0,len(difBasementValues),1):\n",
    "        x =difBasementValues[comparisons][[\"price\",\"basement\"]]\n",
    "        city1 = x.iloc[0][\"basement\"]\n",
    "        city2 = x.iloc[1][\"basement\"]\n",
    "        city1diff = x.iloc[0][\"price\"]\n",
    "        city2diff = x.iloc[1][\"price\"]\n",
    "        num1 = basementComp.loc[basementComp[\"basement\"] == city1][\"pricing difference\"].values\n",
    "        num2 = basementComp.loc[basementComp[\"basement\"] == city2][\"pricing difference\"].values\n",
    "        basementComp[\"pricing difference\"].loc[basementComp[\"basement\"] == city1]=num1 + city1diff \n",
    "        basementComp[\"pricing difference\"].loc[basementComp[\"basement\"] == city2]=num2 + city2diff  \n",
    "\n",
    "def basementValueComp():\n",
    "    for comparisons in range(0,len(difBasementValues),1):\n",
    "        x =difBasementValues[comparisons][[\"price\",\"basement\"]]\n",
    "        city1 = x.iloc[0][\"basement\"]\n",
    "        city2 = x.iloc[1][\"basement\"]\n",
    "        city1diff = x.iloc[0][\"price\"]\n",
    "        city2diff = x.iloc[1][\"price\"]\n",
    "        num1 = basementComp.loc[basementComp[\"basement\"] == city1][\"pricing difference\"].values\n",
    "        num2 = basementComp.loc[basementComp[\"basement\"] == city2][\"pricing difference\"].values\n",
    "        basementComp[\"pricing difference\"].loc[basementComp[\"basement\"] == city1]=num1 + city1diff \n",
    "        basementComp[\"pricing difference\"].loc[basementComp[\"basement\"] == city2]=num2 + city2diff  "
   ]
  },
  {
   "cell_type": "code",
   "execution_count": 20,
   "metadata": {},
   "outputs": [
    {
     "name": "stderr",
     "output_type": "stream",
     "text": [
      "C:\\Users\\Phili\\anaconda3\\lib\\site-packages\\pandas\\core\\indexing.py:671: SettingWithCopyWarning: \n",
      "A value is trying to be set on a copy of a slice from a DataFrame\n",
      "\n",
      "See the caveats in the documentation: https://pandas.pydata.org/pandas-docs/stable/user_guide/indexing.html#returning-a-view-versus-a-copy\n",
      "  self._setitem_with_indexer(indexer, value)\n"
     ]
    }
   ],
   "source": [
    "difBedroomsValues = []\n",
    "for comps in range(0,len(SimilarHouseGrouping),1):\n",
    "    x =SimilarHouseGrouping[comps]\n",
    "    if (x.iloc[0][\"bedrooms\"] != x.iloc[1][\"bedrooms\"] and x.iloc[0][\"bathrooms\"] == x.iloc[1][\"bathrooms\"]\n",
    "       and x.iloc[0][\"floors\"] == x.iloc[1][\"floors\"] and x.iloc[0][\"basement\"] == x.iloc[1][\"basement\"] ):\n",
    "        difBedroomsValues.append(SimilarHouseGrouping[comps])\n",
    "\n",
    "bedValueComp()\n",
    "dfCopy=bedroomComp.copy()\n",
    "toNorm=\"pricing difference\"\n",
    "bedroomComp[toNorm] = dfCopy[toNorm]/dfCopy[toNorm].abs().max()"
   ]
  },
  {
   "cell_type": "code",
   "execution_count": 21,
   "metadata": {},
   "outputs": [],
   "source": [
    "difBathroomsValues = []\n",
    "for comps in range(0,len(SimilarHouseGrouping),1):\n",
    "    x =SimilarHouseGrouping[comps]\n",
    "    if (x.iloc[0][\"bathrooms\"] != x.iloc[1][\"bathrooms\"] and x.iloc[0][\"bedrooms\"] == x.iloc[1][\"bedrooms\"]\n",
    "       and x.iloc[0][\"floors\"] == x.iloc[1][\"floors\"] and x.iloc[0][\"basement\"] == x.iloc[1][\"basement\"] ):\n",
    "        difBathroomsValues.append(SimilarHouseGrouping[comps])\n",
    "\n",
    "bathValueComp()\n",
    "dfCopy=bathroomsComp.copy()\n",
    "toNorm=\"pricing difference\"\n",
    "bathroomsComp[toNorm] = dfCopy[toNorm]/dfCopy[toNorm].abs().max()"
   ]
  },
  {
   "cell_type": "code",
   "execution_count": 22,
   "metadata": {},
   "outputs": [],
   "source": [
    "difFloorsValues = []\n",
    "for comps in range(0,len(SimilarHouseGrouping),1):\n",
    "    x =SimilarHouseGrouping[comps]\n",
    "    if (x.iloc[0][\"bathrooms\"] == x.iloc[1][\"bathrooms\"] and x.iloc[0][\"bedrooms\"] == x.iloc[1][\"bedrooms\"]\n",
    "       and x.iloc[0][\"floors\"] != x.iloc[1][\"floors\"] and x.iloc[0][\"basement\"] == x.iloc[1][\"basement\"] ):\n",
    "        difFloorsValues.append(SimilarHouseGrouping[comps])\n",
    "\n",
    "floorValueComp()\n",
    "dfCopy=floorsComp.copy()\n",
    "toNorm=\"pricing difference\"\n",
    "floorsComp[toNorm] = dfCopy[toNorm]/dfCopy[toNorm].abs().max()"
   ]
  },
  {
   "cell_type": "code",
   "execution_count": 23,
   "metadata": {},
   "outputs": [],
   "source": [
    "difBasementValues = []\n",
    "for comps in range(0,len(SimilarHouseGrouping),1):\n",
    "    x =SimilarHouseGrouping[comps]\n",
    "    if (x.iloc[0][\"bathrooms\"] == x.iloc[1][\"bathrooms\"] and x.iloc[0][\"bedrooms\"] == x.iloc[1][\"bedrooms\"]\n",
    "       and x.iloc[0][\"floors\"] == x.iloc[1][\"floors\"] and x.iloc[0][\"basement\"] != x.iloc[1][\"basement\"] ):\n",
    "        difBasementValues.append(SimilarHouseGrouping[comps])\n",
    "\n",
    "basementValueComp()\n",
    "dfCopy=basementComp.copy()\n",
    "toNorm=\"pricing difference\"\n",
    "basementComp[toNorm] = dfCopy[toNorm]/dfCopy[toNorm].abs().max()"
   ]
  },
  {
   "cell_type": "code",
   "execution_count": 24,
   "metadata": {},
   "outputs": [
    {
     "data": {
      "text/html": [
       "<div>\n",
       "<style scoped>\n",
       "    .dataframe tbody tr th:only-of-type {\n",
       "        vertical-align: middle;\n",
       "    }\n",
       "\n",
       "    .dataframe tbody tr th {\n",
       "        vertical-align: top;\n",
       "    }\n",
       "\n",
       "    .dataframe thead th {\n",
       "        text-align: right;\n",
       "    }\n",
       "</style>\n",
       "<table border=\"1\" class=\"dataframe\">\n",
       "  <thead>\n",
       "    <tr style=\"text-align: right;\">\n",
       "      <th></th>\n",
       "      <th>basement</th>\n",
       "      <th>pricing difference</th>\n",
       "    </tr>\n",
       "  </thead>\n",
       "  <tbody>\n",
       "    <tr>\n",
       "      <th>0</th>\n",
       "      <td>0</td>\n",
       "      <td>0.896883</td>\n",
       "    </tr>\n",
       "    <tr>\n",
       "      <th>1</th>\n",
       "      <td>1</td>\n",
       "      <td>1.000000</td>\n",
       "    </tr>\n",
       "  </tbody>\n",
       "</table>\n",
       "</div>"
      ],
      "text/plain": [
       "   basement  pricing difference\n",
       "0         0            0.896883\n",
       "1         1            1.000000"
      ]
     },
     "execution_count": 24,
     "metadata": {},
     "output_type": "execute_result"
    }
   ],
   "source": [
    "basementComp"
   ]
  },
  {
   "cell_type": "code",
   "execution_count": 25,
   "metadata": {},
   "outputs": [
    {
     "data": {
      "text/plain": [
       "Text(0.5, 1.0, 'normalized value added by the number of bedrooms a house has. 1 being the highest value')"
      ]
     },
     "execution_count": 25,
     "metadata": {},
     "output_type": "execute_result"
    },
    {
     "data": {
      "image/png": "[encoded data removed]",
      "text/plain": [
       "<Figure size 432x288 with 1 Axes>"
      ]
     },
     "metadata": {
      "needs_background": "light"
     },
     "output_type": "display_data"
    }
   ],
   "source": [
    "plt.bar(bedroomComp[\"bedrooms\"],bedroomComp[\"pricing difference\"])\n",
    "plt.title(\"normalized value added by the number of bedrooms a house has. 1 being the highest value\")"
   ]
  },
  {
   "cell_type": "code",
   "execution_count": 26,
   "metadata": {},
   "outputs": [
    {
     "data": {
      "text/plain": [
       "Text(0.5, 1.0, '')"
      ]
     },
     "execution_count": 26,
     "metadata": {},
     "output_type": "execute_result"
    },
    {
     "data": {
      "image/png": "[encoded data removed]",
      "text/plain": [
       "<Figure size 432x288 with 1 Axes>"
      ]
     },
     "metadata": {
      "needs_background": "light"
     },
     "output_type": "display_data"
    }
   ],
   "source": [
    "plt.bar(basementComp[\"basement\"],basementComp[\"pricing difference\"])\n",
    "plt.title(\"\")"
   ]
  },
  {
   "cell_type": "markdown",
   "metadata": {},
   "source": [
    "# property input"
   ]
  },
  {
   "cell_type": "code",
   "execution_count": 27,
   "metadata": {},
   "outputs": [],
   "source": [
    "columnsTOBeInput=data.columns.values"
   ]
  },
  {
   "cell_type": "code",
   "execution_count": null,
   "metadata": {},
   "outputs": [],
   "source": [
    "inputVals =[]\n",
    "temp = 0\n",
    "for x in range(0,len(columnsTOBeInput),1):\n",
    "    print(\"------------------\")\n",
    "    print(\"Enter the value you want for : \"+columnsTOBeInput[x])\n",
    "    print(\"minimum value : \" +str(data[columnsTOBeInput[x]].min())+ \" Maximum value : \" +str(data[columnsTOBeInput[x]].max()) + \" of houses that are avalilible\")\n",
    "    numberInput = input (\"Enter Target \" + columnsTOBeInput[x] + \":\")\n",
    "    \n",
    "    if(columnsTOBeInput[x] == \"city\" ):\n",
    "        for city in data[\"city\"] :\n",
    "            if (numberInput == city):\n",
    "                temp = 1\n",
    "        if(temp ==0):\n",
    "            numberInput=\"Kent\"\n",
    "                \n",
    "    elif (columnsTOBeInput[x] ==\"statezip\"):\n",
    "        for state in data[\"statezip\"]:\n",
    "            if (numberInput == state):\n",
    "                temp = 1        \n",
    "        if(temp ==0):\n",
    "            numberInput=\"WA 98042\"\n",
    "    else:\n",
    "        numberInput = int(numberInput)\n",
    "        if(int(numberInput) < data[columnsTOBeInput[x]].min() ):\n",
    "            print(\"There are no properties with a \" +columnsTOBeInput[x]+ \"below this, minimum value will be set\")\n",
    "            numberInput = data[columnsTOBeInput[x]].min()\n",
    "\n",
    "        if(int(numberInput) >data[columnsTOBeInput[x]].max() ):\n",
    "            print(\"There are no properties with a \" +columnsTOBeInput[x]+ \"above this, maximum value will be set\")\n",
    "            numberInput = data[columnsTOBeInput[x]].max()\n",
    "            \n",
    "    inputVals.append(numberInput)\n",
    "    print(\"Inputs Taken\")\n",
    "    \n"
   ]
  },
  {
   "cell_type": "code",
   "execution_count": 47,
   "metadata": {},
   "outputs": [
    {
     "data": {
      "text/plain": [
       "7800.0"
      ]
     },
     "execution_count": 47,
     "metadata": {},
     "output_type": "execute_result"
    }
   ],
   "source": [
    "inputVals[0]"
   ]
  },
  {
   "cell_type": "code",
   "execution_count": 48,
   "metadata": {},
   "outputs": [
    {
     "data": {
      "text/html": [
       "<div>\n",
       "<style scoped>\n",
       "    .dataframe tbody tr th:only-of-type {\n",
       "        vertical-align: middle;\n",
       "    }\n",
       "\n",
       "    .dataframe tbody tr th {\n",
       "        vertical-align: top;\n",
       "    }\n",
       "\n",
       "    .dataframe thead th {\n",
       "        text-align: right;\n",
       "    }\n",
       "</style>\n",
       "<table border=\"1\" class=\"dataframe\">\n",
       "  <thead>\n",
       "    <tr style=\"text-align: right;\">\n",
       "      <th></th>\n",
       "      <th>price</th>\n",
       "      <th>bedrooms</th>\n",
       "      <th>bathrooms</th>\n",
       "      <th>sqft_living</th>\n",
       "      <th>sqft_lot</th>\n",
       "      <th>floors</th>\n",
       "      <th>waterfront</th>\n",
       "      <th>view</th>\n",
       "      <th>condition</th>\n",
       "      <th>sqft_above</th>\n",
       "      <th>city</th>\n",
       "      <th>statezip</th>\n",
       "      <th>basement</th>\n",
       "      <th>renovated</th>\n",
       "      <th>DecadeBuilt</th>\n",
       "    </tr>\n",
       "  </thead>\n",
       "  <tbody>\n",
       "    <tr>\n",
       "      <th>4534</th>\n",
       "      <td>7800.0</td>\n",
       "      <td>1</td>\n",
       "      <td>1</td>\n",
       "      <td>520.0</td>\n",
       "      <td>638.0</td>\n",
       "      <td>1</td>\n",
       "      <td>1</td>\n",
       "      <td>1</td>\n",
       "      <td>1</td>\n",
       "      <td>520.0</td>\n",
       "      <td>Kent</td>\n",
       "      <td>WA 98042</td>\n",
       "      <td>1</td>\n",
       "      <td>1</td>\n",
       "      <td>1900.0</td>\n",
       "    </tr>\n",
       "    <tr>\n",
       "      <th>4532</th>\n",
       "      <td>7800.0</td>\n",
       "      <td>1</td>\n",
       "      <td>1</td>\n",
       "      <td>520.0</td>\n",
       "      <td>638.0</td>\n",
       "      <td>1</td>\n",
       "      <td>1</td>\n",
       "      <td>1</td>\n",
       "      <td>1</td>\n",
       "      <td>520.0</td>\n",
       "      <td>kent</td>\n",
       "      <td>WA 98042</td>\n",
       "      <td>1</td>\n",
       "      <td>1</td>\n",
       "      <td>1900.0</td>\n",
       "    </tr>\n",
       "  </tbody>\n",
       "</table>\n",
       "</div>"
      ],
      "text/plain": [
       "       price  bedrooms  bathrooms  sqft_living  sqft_lot  floors  waterfront  \\\n",
       "4534  7800.0         1          1        520.0     638.0       1           1   \n",
       "4532  7800.0         1          1        520.0     638.0       1           1   \n",
       "\n",
       "      view  condition  sqft_above  city  statezip  basement  renovated  \\\n",
       "4534     1          1       520.0  Kent  WA 98042         1          1   \n",
       "4532     1          1       520.0  kent  WA 98042         1          1   \n",
       "\n",
       "      DecadeBuilt  \n",
       "4534       1900.0  \n",
       "4532       1900.0  "
      ]
     },
     "execution_count": 48,
     "metadata": {},
     "output_type": "execute_result"
    }
   ],
   "source": [
    "data.loc[len(data)]= inputVals\n",
    "similarTo(len(data)-1,2)"
   ]
  },
  {
   "cell_type": "markdown",
   "metadata": {},
   "source": [
    "# properties around the searched property changing values to ones close.\n",
    "this will involve changing variables up and down"
   ]
  },
  {
   "cell_type": "code",
   "execution_count": 49,
   "metadata": {},
   "outputs": [
    {
     "name": "stdout",
     "output_type": "stream",
     "text": [
      "minimum value is reached\n"
     ]
    }
   ],
   "source": [
    "inputValsPlusOne=[]\n",
    "\n",
    "for x in inputVals:\n",
    "    if type(x) is str:\n",
    "        inputValsPlusOne.append(x)\n",
    "    elif x < 10:\n",
    "        x = x + 1\n",
    "        inputValsPlusOne.append(x)\n",
    "    elif x > 10:\n",
    "        x = x * 1.1\n",
    "        inputValsPlusOne.append(x)\n",
    "    \n",
    "inputValsMinusOne=[]\n",
    "if(inputVals[0]==7800.0):\n",
    "    print(\"minimum value is reached\")\n",
    "else:\n",
    "    for x in inputVals:\n",
    "        if type(x) is str:\n",
    "            inputValsMinusOne.append(x)\n",
    "\n",
    "        elif x < 10:\n",
    "            if x >1:\n",
    "                x = x + 1\n",
    "                inputValsMinusOne.append(x)\n",
    "        elif x > 10:\n",
    "            x = x * .9\n",
    "            inputValsMinusOne.append(x)\n"
   ]
  },
  {
   "cell_type": "code",
   "execution_count": 50,
   "metadata": {},
   "outputs": [
    {
     "data": {
      "text/html": [
       "<div>\n",
       "<style scoped>\n",
       "    .dataframe tbody tr th:only-of-type {\n",
       "        vertical-align: middle;\n",
       "    }\n",
       "\n",
       "    .dataframe tbody tr th {\n",
       "        vertical-align: top;\n",
       "    }\n",
       "\n",
       "    .dataframe thead th {\n",
       "        text-align: right;\n",
       "    }\n",
       "</style>\n",
       "<table border=\"1\" class=\"dataframe\">\n",
       "  <thead>\n",
       "    <tr style=\"text-align: right;\">\n",
       "      <th></th>\n",
       "      <th>price</th>\n",
       "      <th>bedrooms</th>\n",
       "      <th>bathrooms</th>\n",
       "      <th>sqft_living</th>\n",
       "      <th>sqft_lot</th>\n",
       "      <th>floors</th>\n",
       "      <th>waterfront</th>\n",
       "      <th>view</th>\n",
       "      <th>condition</th>\n",
       "      <th>sqft_above</th>\n",
       "      <th>city</th>\n",
       "      <th>statezip</th>\n",
       "      <th>basement</th>\n",
       "      <th>renovated</th>\n",
       "      <th>DecadeBuilt</th>\n",
       "    </tr>\n",
       "  </thead>\n",
       "  <tbody>\n",
       "    <tr>\n",
       "      <th>4533</th>\n",
       "      <td>8580.0</td>\n",
       "      <td>2</td>\n",
       "      <td>2</td>\n",
       "      <td>572.0</td>\n",
       "      <td>701.8</td>\n",
       "      <td>2</td>\n",
       "      <td>2</td>\n",
       "      <td>2</td>\n",
       "      <td>2</td>\n",
       "      <td>572.0</td>\n",
       "      <td>kent</td>\n",
       "      <td>WA 98042</td>\n",
       "      <td>2</td>\n",
       "      <td>2</td>\n",
       "      <td>2090.0</td>\n",
       "    </tr>\n",
       "    <tr>\n",
       "      <th>4535</th>\n",
       "      <td>8580.0</td>\n",
       "      <td>2</td>\n",
       "      <td>2</td>\n",
       "      <td>572.0</td>\n",
       "      <td>701.8</td>\n",
       "      <td>2</td>\n",
       "      <td>2</td>\n",
       "      <td>2</td>\n",
       "      <td>2</td>\n",
       "      <td>572.0</td>\n",
       "      <td>Kent</td>\n",
       "      <td>WA 98042</td>\n",
       "      <td>2</td>\n",
       "      <td>2</td>\n",
       "      <td>2090.0</td>\n",
       "    </tr>\n",
       "  </tbody>\n",
       "</table>\n",
       "</div>"
      ],
      "text/plain": [
       "       price  bedrooms  bathrooms  sqft_living  sqft_lot  floors  waterfront  \\\n",
       "4533  8580.0         2          2        572.0     701.8       2           2   \n",
       "4535  8580.0         2          2        572.0     701.8       2           2   \n",
       "\n",
       "      view  condition  sqft_above  city  statezip  basement  renovated  \\\n",
       "4533     2          2       572.0  kent  WA 98042         2          2   \n",
       "4535     2          2       572.0  Kent  WA 98042         2          2   \n",
       "\n",
       "      DecadeBuilt  \n",
       "4533       2090.0  \n",
       "4535       2090.0  "
      ]
     },
     "execution_count": 50,
     "metadata": {},
     "output_type": "execute_result"
    }
   ],
   "source": [
    "data.loc[len(data)]= inputValsPlusOne\n",
    "similarTo(len(data)-1,2)\n"
   ]
  },
  {
   "cell_type": "code",
   "execution_count": 51,
   "metadata": {},
   "outputs": [
    {
     "ename": "ValueError",
     "evalue": "cannot set a row with mismatched columns",
     "output_type": "error",
     "traceback": [
      "\u001b[1;31m---------------------------------------------------------------------------\u001b[0m",
      "\u001b[1;31mValueError\u001b[0m                                Traceback (most recent call last)",
      "\u001b[1;32m<ipython-input-51-b917217c2896>\u001b[0m in \u001b[0;36m<module>\u001b[1;34m\u001b[0m\n\u001b[1;32m----> 1\u001b[1;33m \u001b[0mdata\u001b[0m\u001b[1;33m.\u001b[0m\u001b[0mloc\u001b[0m\u001b[1;33m[\u001b[0m\u001b[0mlen\u001b[0m\u001b[1;33m(\u001b[0m\u001b[0mdata\u001b[0m\u001b[1;33m)\u001b[0m\u001b[1;33m]\u001b[0m\u001b[1;33m=\u001b[0m \u001b[0minputValsMinusOne\u001b[0m\u001b[1;33m\u001b[0m\u001b[1;33m\u001b[0m\u001b[0m\n\u001b[0m\u001b[0;32m      2\u001b[0m \u001b[0msimilarTo\u001b[0m\u001b[1;33m(\u001b[0m\u001b[0mlen\u001b[0m\u001b[1;33m(\u001b[0m\u001b[0mdata\u001b[0m\u001b[1;33m)\u001b[0m\u001b[1;33m-\u001b[0m\u001b[1;36m1\u001b[0m\u001b[1;33m,\u001b[0m\u001b[1;36m2\u001b[0m\u001b[1;33m)\u001b[0m\u001b[1;33m\u001b[0m\u001b[1;33m\u001b[0m\u001b[0m\n",
      "\u001b[1;32m~\\anaconda3\\lib\\site-packages\\pandas\\core\\indexing.py\u001b[0m in \u001b[0;36m__setitem__\u001b[1;34m(self, key, value)\u001b[0m\n\u001b[0;32m    669\u001b[0m             \u001b[0mkey\u001b[0m \u001b[1;33m=\u001b[0m \u001b[0mcom\u001b[0m\u001b[1;33m.\u001b[0m\u001b[0mapply_if_callable\u001b[0m\u001b[1;33m(\u001b[0m\u001b[0mkey\u001b[0m\u001b[1;33m,\u001b[0m \u001b[0mself\u001b[0m\u001b[1;33m.\u001b[0m\u001b[0mobj\u001b[0m\u001b[1;33m)\u001b[0m\u001b[1;33m\u001b[0m\u001b[1;33m\u001b[0m\u001b[0m\n\u001b[0;32m    670\u001b[0m         \u001b[0mindexer\u001b[0m \u001b[1;33m=\u001b[0m \u001b[0mself\u001b[0m\u001b[1;33m.\u001b[0m\u001b[0m_get_setitem_indexer\u001b[0m\u001b[1;33m(\u001b[0m\u001b[0mkey\u001b[0m\u001b[1;33m)\u001b[0m\u001b[1;33m\u001b[0m\u001b[1;33m\u001b[0m\u001b[0m\n\u001b[1;32m--> 671\u001b[1;33m         \u001b[0mself\u001b[0m\u001b[1;33m.\u001b[0m\u001b[0m_setitem_with_indexer\u001b[0m\u001b[1;33m(\u001b[0m\u001b[0mindexer\u001b[0m\u001b[1;33m,\u001b[0m \u001b[0mvalue\u001b[0m\u001b[1;33m)\u001b[0m\u001b[1;33m\u001b[0m\u001b[1;33m\u001b[0m\u001b[0m\n\u001b[0m\u001b[0;32m    672\u001b[0m \u001b[1;33m\u001b[0m\u001b[0m\n\u001b[0;32m    673\u001b[0m     \u001b[1;32mdef\u001b[0m \u001b[0m_validate_key\u001b[0m\u001b[1;33m(\u001b[0m\u001b[0mself\u001b[0m\u001b[1;33m,\u001b[0m \u001b[0mkey\u001b[0m\u001b[1;33m,\u001b[0m \u001b[0maxis\u001b[0m\u001b[1;33m:\u001b[0m \u001b[0mint\u001b[0m\u001b[1;33m)\u001b[0m\u001b[1;33m:\u001b[0m\u001b[1;33m\u001b[0m\u001b[1;33m\u001b[0m\u001b[0m\n",
      "\u001b[1;32m~\\anaconda3\\lib\\site-packages\\pandas\\core\\indexing.py\u001b[0m in \u001b[0;36m_setitem_with_indexer\u001b[1;34m(self, indexer, value)\u001b[0m\n\u001b[0;32m    873\u001b[0m \u001b[1;33m\u001b[0m\u001b[0m\n\u001b[0;32m    874\u001b[0m             \u001b[1;32mif\u001b[0m \u001b[0mmissing\u001b[0m\u001b[1;33m:\u001b[0m\u001b[1;33m\u001b[0m\u001b[1;33m\u001b[0m\u001b[0m\n\u001b[1;32m--> 875\u001b[1;33m                 \u001b[1;32mreturn\u001b[0m \u001b[0mself\u001b[0m\u001b[1;33m.\u001b[0m\u001b[0m_setitem_with_indexer_missing\u001b[0m\u001b[1;33m(\u001b[0m\u001b[0mindexer\u001b[0m\u001b[1;33m,\u001b[0m \u001b[0mvalue\u001b[0m\u001b[1;33m)\u001b[0m\u001b[1;33m\u001b[0m\u001b[1;33m\u001b[0m\u001b[0m\n\u001b[0m\u001b[0;32m    876\u001b[0m \u001b[1;33m\u001b[0m\u001b[0m\n\u001b[0;32m    877\u001b[0m         \u001b[1;31m# set\u001b[0m\u001b[1;33m\u001b[0m\u001b[1;33m\u001b[0m\u001b[1;33m\u001b[0m\u001b[0m\n",
      "\u001b[1;32m~\\anaconda3\\lib\\site-packages\\pandas\\core\\indexing.py\u001b[0m in \u001b[0;36m_setitem_with_indexer_missing\u001b[1;34m(self, indexer, value)\u001b[0m\n\u001b[0;32m   1117\u001b[0m                     \u001b[1;31m# must have conforming columns\u001b[0m\u001b[1;33m\u001b[0m\u001b[1;33m\u001b[0m\u001b[1;33m\u001b[0m\u001b[0m\n\u001b[0;32m   1118\u001b[0m                     \u001b[1;32mif\u001b[0m \u001b[0mlen\u001b[0m\u001b[1;33m(\u001b[0m\u001b[0mvalue\u001b[0m\u001b[1;33m)\u001b[0m \u001b[1;33m!=\u001b[0m \u001b[0mlen\u001b[0m\u001b[1;33m(\u001b[0m\u001b[0mself\u001b[0m\u001b[1;33m.\u001b[0m\u001b[0mobj\u001b[0m\u001b[1;33m.\u001b[0m\u001b[0mcolumns\u001b[0m\u001b[1;33m)\u001b[0m\u001b[1;33m:\u001b[0m\u001b[1;33m\u001b[0m\u001b[1;33m\u001b[0m\u001b[0m\n\u001b[1;32m-> 1119\u001b[1;33m                         \u001b[1;32mraise\u001b[0m \u001b[0mValueError\u001b[0m\u001b[1;33m(\u001b[0m\u001b[1;34m\"cannot set a row with mismatched columns\"\u001b[0m\u001b[1;33m)\u001b[0m\u001b[1;33m\u001b[0m\u001b[1;33m\u001b[0m\u001b[0m\n\u001b[0m\u001b[0;32m   1120\u001b[0m \u001b[1;33m\u001b[0m\u001b[0m\n\u001b[0;32m   1121\u001b[0m                 \u001b[0mvalue\u001b[0m \u001b[1;33m=\u001b[0m \u001b[0mSeries\u001b[0m\u001b[1;33m(\u001b[0m\u001b[0mvalue\u001b[0m\u001b[1;33m,\u001b[0m \u001b[0mindex\u001b[0m\u001b[1;33m=\u001b[0m\u001b[0mself\u001b[0m\u001b[1;33m.\u001b[0m\u001b[0mobj\u001b[0m\u001b[1;33m.\u001b[0m\u001b[0mcolumns\u001b[0m\u001b[1;33m,\u001b[0m \u001b[0mname\u001b[0m\u001b[1;33m=\u001b[0m\u001b[0mindexer\u001b[0m\u001b[1;33m)\u001b[0m\u001b[1;33m\u001b[0m\u001b[1;33m\u001b[0m\u001b[0m\n",
      "\u001b[1;31mValueError\u001b[0m: cannot set a row with mismatched columns"
     ]
    }
   ],
   "source": [
    "data.loc[len(data)]= inputValsMinusOne\n",
    "similarTo(len(data)-1,2)"
   ]
  },
  {
   "cell_type": "code",
   "execution_count": 52,
   "metadata": {},
   "outputs": [
    {
     "data": {
      "text/plain": [
       "price              8580\n",
       "bedrooms              2\n",
       "bathrooms             2\n",
       "sqft_living         572\n",
       "sqft_lot          701.8\n",
       "floors                2\n",
       "waterfront            2\n",
       "view                  2\n",
       "condition             2\n",
       "sqft_above          572\n",
       "city               Kent\n",
       "statezip       WA 98042\n",
       "basement              2\n",
       "renovated             2\n",
       "DecadeBuilt        2090\n",
       "Name: 4535, dtype: object"
      ]
     },
     "execution_count": 52,
     "metadata": {},
     "output_type": "execute_result"
    }
   ],
   "source": [
    "data.iloc[len(data)-1]\n"
   ]
  },
  {
   "cell_type": "code",
   "execution_count": null,
   "metadata": {},
   "outputs": [],
   "source": [
    "len(data)"
   ]
  }
 ],
 "metadata": {
  "kernelspec": {
   "display_name": "Python 3",
   "language": "python",
   "name": "python3"
  },
  "language_info": {
   "codemirror_mode": {
    "name": "ipython",
    "version": 3
   },
   "file_extension": ".py",
   "mimetype": "text/x-python",
   "name": "python",
   "nbconvert_exporter": "python",
   "pygments_lexer": "ipython3",
   "version": "3.8.3"
  }
 },
 "nbformat": 4,
 "nbformat_minor": 4
}
